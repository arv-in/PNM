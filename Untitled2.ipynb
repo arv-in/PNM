{
 "cells": [
  {
   "cell_type": "code",
   "execution_count": 18,
   "metadata": {},
   "outputs": [],
   "source": [
    "import os\n",
    "import glob\n",
    "import shutil\n",
    "import subprocess\n",
    "\n",
    "#1 move to data directory\n",
    "data_dir = 'C:\\\\Users\\\\ssahoo\\\\Desktop\\\\Dis\\\\N300'\n",
    "os.chdir(data_dir)\n",
    "\n",
    "#2c create list in data directory\n",
    "a = glob.glob('*out_Reshaped*')\n",
    "\n",
    "\n",
    "#3 move to pnextract/bin\n",
    "pne_dir = 'C:\\\\Users\\\\ssahoo\\\\Desktop\\Dis\\\\pnextract-master\\\\bin'\n",
    "os.chdir(pne_dir)\n",
    "for a_i in a:\n",
    "    src = data_dir+'\\\\'+a_i\n",
    "    dst = pne_dir+'\\\\'+a_i\n",
    "    shutil.copy(src,dst)\n",
    "    \n",
    "    #4 create Image.mhd file\n",
    "    with open('Image.mhd') as file:\n",
    "        lines = file.readlines()\n",
    "        \n",
    "        string = 'ElementDataFile = '+a_i+'\\n'\n",
    "        lines[8] = string\n",
    "        \n",
    "        with open('Image2.mhd','w') as nf:\n",
    "            nf.writelines(lines)\n",
    "    \n",
    "    \n",
    "    #5 execute pnextract.exe\n",
    "    pro = 'pnextract.exe'\n",
    "    inp =  'Image2.mhd'\n",
    "    subprocess.call([pro,inp])\n",
    "    \n",
    "    #6 delete matlab output\n",
    "    os.remove(a_i)\n",
    "    \n",
    "    #7 copy pnextract output to folder\n",
    "    f_name = a_i[0:-4]\n",
    "    b = glob.glob('*'+f_name+'*')\n",
    "    os.mkdir(f_name)\n",
    "    for b_i in b:\n",
    "        src = os.getcwd()+'\\\\'+b_i\n",
    "        dst = os.getcwd()+'\\\\'+f_name+'\\\\'+b_i\n",
    "        shutil.move(src,dst)\n",
    "    "
   ]
  },
  {
   "cell_type": "code",
   "execution_count": 13,
   "metadata": {},
   "outputs": [
    {
     "data": {
      "text/plain": [
       "[]"
      ]
     },
     "execution_count": 13,
     "metadata": {},
     "output_type": "execute_result"
    }
   ],
   "source": [
    "\n",
    "b = glob.glob('*'+a_i+'*')\n",
    "\n",
    "for b_i in b:\n",
    "    src = os.getcwd()+'\\\\'+b_i\n",
    "    dst = os.getcwd()+'\\\\'+f_name+'\\\\'+b_i\n",
    "    shutil.move(src,dst)"
   ]
  },
  {
   "cell_type": "code",
   "execution_count": 10,
   "metadata": {},
   "outputs": [
    {
     "ename": "FileNotFoundError",
     "evalue": "[Errno 2] No such file or directory: 'Image.mhd'",
     "output_type": "error",
     "traceback": [
      "\u001b[1;31m---------------------------------------------------------------------------\u001b[0m",
      "\u001b[1;31mFileNotFoundError\u001b[0m                         Traceback (most recent call last)",
      "\u001b[1;32m<ipython-input-10-378fc38c76c5>\u001b[0m in \u001b[0;36m<module>\u001b[1;34m\u001b[0m\n\u001b[0;32m      6\u001b[0m \u001b[1;33m\u001b[0m\u001b[0m\n\u001b[0;32m      7\u001b[0m     \u001b[1;31m#4 create Image.mhd file\u001b[0m\u001b[1;33m\u001b[0m\u001b[1;33m\u001b[0m\u001b[1;33m\u001b[0m\u001b[0m\n\u001b[1;32m----> 8\u001b[1;33m     \u001b[1;32mwith\u001b[0m \u001b[0mopen\u001b[0m\u001b[1;33m(\u001b[0m\u001b[1;34m'Image.mhd'\u001b[0m\u001b[1;33m)\u001b[0m \u001b[1;32mas\u001b[0m \u001b[0mfile\u001b[0m\u001b[1;33m:\u001b[0m\u001b[1;33m\u001b[0m\u001b[1;33m\u001b[0m\u001b[0m\n\u001b[0m\u001b[0;32m      9\u001b[0m         \u001b[0mlines\u001b[0m \u001b[1;33m=\u001b[0m \u001b[0mfile\u001b[0m\u001b[1;33m.\u001b[0m\u001b[0mreadlines\u001b[0m\u001b[1;33m(\u001b[0m\u001b[1;33m)\u001b[0m\u001b[1;33m\u001b[0m\u001b[1;33m\u001b[0m\u001b[0m\n\u001b[0;32m     10\u001b[0m \u001b[1;33m\u001b[0m\u001b[0m\n",
      "\u001b[1;31mFileNotFoundError\u001b[0m: [Errno 2] No such file or directory: 'Image.mhd'"
     ]
    }
   ],
   "source": [
    "a = [a[0]]\n",
    "for a_i in a:\n",
    "    src = data_dir+'\\\\'+a_i\n",
    "    dst = pne_dir+'\\\\'+a_i\n",
    "    shutil.copy(src,dst)\n",
    "    \n",
    "    #4 create Image.mhd file\n",
    "    with open('Image.mhd') as file:\n",
    "        lines = file.readlines()\n",
    "        \n",
    "        string = 'ElementDataFile = '+a_i+'\\n'\n",
    "        lines[8] = string\n",
    "        \n",
    "        with open('Image2.mhd','w') as nf:\n",
    "            nf.writelines(lines)\n",
    "    \n",
    "    \n",
    "    #5 execute pnextract.exe\n",
    "    pro = 'pnextract.exe'\n",
    "    inp =  'Image2.mhd'\n",
    "    subprocess.call([pro,inp])\n",
    "    \n",
    "    #6 delete matlab output\n",
    "    os.remove(a_i)\n",
    "    \n",
    "    #7 copy pnextract output to folder\n",
    "    f_name = a_i[0:-4]\n",
    "    b = glob.glob('*'+f_name+'*')\n",
    "    os.mkdir(f_name)\n",
    "    for b_i in b:\n",
    "        src = os.getcwd()+'\\\\'+b_i\n",
    "        dst = os.getcwd()+'\\\\'+f_name+'\\\\'+b_i\n",
    "        shutil.move(src,dst)"
   ]
  },
  {
   "cell_type": "code",
   "execution_count": 9,
   "metadata": {},
   "outputs": [
    {
     "data": {
      "text/plain": [
       "'phi0o400000000cd0o000010000ps0o000010000_qsgs_out_Reshaped_array.dat'"
      ]
     },
     "execution_count": 9,
     "metadata": {},
     "output_type": "execute_result"
    }
   ],
   "source": [
    "import os\n",
    "import glob\n",
    "import shutil\n",
    "import subprocess\n",
    "\n",
    "#1 move to data directory\n",
    "data_dir = 'C:\\\\Users\\\\ssahoo\\\\Desktop\\\\Dis\\\\N300'\n",
    "os.chdir(data_dir)\n",
    "\n",
    "#2c create list in data directory\n",
    "a = glob.glob('*out_Reshaped*')\n",
    "a[0]"
   ]
  },
  {
   "cell_type": "code",
   "execution_count": 16,
   "metadata": {},
   "outputs": [
    {
     "name": "stdout",
     "output_type": "stream",
     "text": [
      "*phi0o400000000cd0o000010000ps0o000010000_qsgs_out_Reshaped_array.dat*\n"
     ]
    },
    {
     "data": {
      "text/plain": [
       "[]"
      ]
     },
     "execution_count": 16,
     "metadata": {},
     "output_type": "execute_result"
    }
   ],
   "source": [
    "s = '*'+a_i+'*'\n",
    "print(s)\n",
    "b = glob.glob(s)\n",
    "b"
   ]
  },
  {
   "cell_type": "code",
   "execution_count": 1,
   "metadata": {},
   "outputs": [
    {
     "data": {
      "text/plain": [
       "0.1388888888888889"
      ]
     },
     "execution_count": 1,
     "metadata": {},
     "output_type": "execute_result"
    }
   ],
   "source": [
    "10/72\n"
   ]
  },
  {
   "cell_type": "code",
   "execution_count": null,
   "metadata": {},
   "outputs": [],
   "source": []
  }
 ],
 "metadata": {
  "kernelspec": {
   "display_name": "Python 3",
   "language": "python",
   "name": "python3"
  },
  "language_info": {
   "codemirror_mode": {
    "name": "ipython",
    "version": 3
   },
   "file_extension": ".py",
   "mimetype": "text/x-python",
   "name": "python",
   "nbconvert_exporter": "python",
   "pygments_lexer": "ipython3",
   "version": "3.7.6"
  }
 },
 "nbformat": 4,
 "nbformat_minor": 4
}
